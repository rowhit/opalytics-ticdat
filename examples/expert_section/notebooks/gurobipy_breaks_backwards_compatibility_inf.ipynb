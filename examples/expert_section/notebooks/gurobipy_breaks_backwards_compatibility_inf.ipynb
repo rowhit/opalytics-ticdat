{
 "cells": [
  {
   "cell_type": "markdown",
   "metadata": {},
   "source": [
    "# gurobipy 8.0 breaks back compatibility with float(\"inf\")\n",
    "\n",
    "The `gurobipy` package has broken long standing `inf`  functionality with their 8.0 release. Historically (dating back at least 5 years) `inf` is replaced with `GRB.INFINITY` during model building.  The 8.0 release instead raises an exception upon encountering `inf`. (But only with constraint building - `inf` can still be used to represent unboundedness with variable creation).\n",
    "\n",
    "To demonstrate this functionality, we will use a netflow.xlsx file that has infinity as part of the input data. Specifically, this file specifies an unbounded upper limit for product flow between Detroit and Seattle. Other than this one edit, the data is consistent with Gurobi netflow example [here](http://www.gurobi.com/documentation/7.5/examples/netflow_py.html). Since there is an optimal solution with slack on the Detroit to Seattle constraint, this edit doesn't change the optimization result.\n",
    "\n",
    "You can download this netflow.xlsx file from [here](https://drive.google.com/drive/folders/18w1hwJDrh4RJWwJi2tZb3qVUisUT5Q2k?usp=sharing). "
   ]
  },
  {
   "cell_type": "code",
   "execution_count": 1,
   "metadata": {
    "collapsed": false
   },
   "outputs": [],
   "source": [
    "import os\n",
    "assert os.path.isfile(\"netflow.xlsx\"), \"need the data file\""
   ]
  },
  {
   "cell_type": "markdown",
   "metadata": {},
   "source": [
    "Now let's read this data into `pandas.DataFrame` objects. [pandas](https://pandas.pydata.org/) is a wildly popular data science package. We will use the standard `pandas` Excel reader to convert each data sheet into a `DataFrame`."
   ]
  },
  {
   "cell_type": "code",
   "execution_count": 2,
   "metadata": {
    "collapsed": false
   },
   "outputs": [],
   "source": [
    "import pandas as pd\n",
    "commodities_df = pd.read_excel(\"netflow.xlsx\", \"Commodities\")\n",
    "nodes_df = pd.read_excel(\"netflow.xlsx\", \"Nodes\")\n",
    "arcs_df = pd.read_excel(\"netflow.xlsx\", \"Arcs\")\n",
    "cost_df = pd.read_excel(\"netflow.xlsx\", \"Cost\")\n",
    "inflow_df = pd.read_excel(\"netflow.xlsx\", \"Inflow\")"
   ]
  },
  {
   "cell_type": "markdown",
   "metadata": {},
   "source": [
    "Now let's convert into these `DataFrame` objects into the data structures expected by the netflow.py code."
   ]
  },
  {
   "cell_type": "code",
   "execution_count": 3,
   "metadata": {
    "collapsed": false
   },
   "outputs": [],
   "source": [
    "from gurobipy import *\n",
    "commodities = list(commodities_df[\"Name\"])\n",
    "nodes = list(nodes_df[\"Name\"])\n",
    "arcs, capacity = multidict(arcs_df.set_index(['Source', 'Destination']).\n",
    "                              to_dict()[\"Capacity\"])\n",
    "cost = cost_df.set_index([\"Commodity\", \"Source\", \"Destination\"]).to_dict()[\"Cost\"]\n",
    "inflow = inflow_df.set_index([\"Commodity\", \"Node\"]).to_dict()[\"Quantity\"]"
   ]
  },
  {
   "cell_type": "markdown",
   "metadata": {},
   "source": [
    "As you can see, `pandas` has created an `inf` value as part of normal data reading. More on this later."
   ]
  },
  {
   "cell_type": "code",
   "execution_count": 4,
   "metadata": {
    "collapsed": false
   },
   "outputs": [
    {
     "data": {
      "text/plain": [
       "{(u'Denver', u'Boston'): 120.0,\n",
       " (u'Denver', u'New York'): 120.0,\n",
       " (u'Denver', u'Seattle'): 120.0,\n",
       " (u'Detroit', u'Boston'): 100.0,\n",
       " (u'Detroit', u'New York'): 80.0,\n",
       " (u'Detroit', u'Seattle'): inf}"
      ]
     },
     "execution_count": 4,
     "metadata": {},
     "output_type": "execute_result"
    }
   ],
   "source": [
    "capacity"
   ]
  },
  {
   "cell_type": "markdown",
   "metadata": {},
   "source": [
    "The large-ish code block below is an exact copy of the solving section of [netflow.py](http://www.gurobi.com/documentation/7.5/examples/netflow_py.html).\n",
    "For Gurobi 7.5 this model solves and returns an optimal solution of 5,500. I believe it will run on versions of Gurobi as far back as 5.6.2 so long as you edit it to use `addVar`, `addConstr` instead of `addVars` and `addConstrs`.\n",
    "\n",
    "If you run this with Gurobi 8.0 it throws an exception. Feel free to rerun the notebook on your own installation."
   ]
  },
  {
   "cell_type": "code",
   "execution_count": 5,
   "metadata": {
    "collapsed": false
   },
   "outputs": [
    {
     "data": {
      "text/plain": [
       "(7, 5, 2)"
      ]
     },
     "execution_count": 5,
     "metadata": {},
     "output_type": "execute_result"
    }
   ],
   "source": [
    "GRB.VERSION_MAJOR, GRB.VERSION_MINOR, GRB.VERSION_TECHNICAL"
   ]
  },
  {
   "cell_type": "code",
   "execution_count": 6,
   "metadata": {
    "collapsed": false
   },
   "outputs": [
    {
     "name": "stdout",
     "output_type": "stream",
     "text": [
      "Optimize a model with 16 rows, 12 columns and 36 nonzeros\n",
      "Coefficient statistics:\n",
      "  Matrix range     [1e+00, 1e+00]\n",
      "  Objective range  [1e+01, 8e+01]\n",
      "  Bounds range     [0e+00, 0e+00]\n",
      "  RHS range        [1e+01, 1e+02]\n",
      "Presolve removed 16 rows and 12 columns\n",
      "Presolve time: 0.01s\n",
      "Presolve: All rows and columns removed\n",
      "Iteration    Objective       Primal Inf.    Dual Inf.      Time\n",
      "       0    5.5000000e+03   0.000000e+00   0.000000e+00      0s\n",
      "\n",
      "Solved in 0 iterations and 0.02 seconds\n",
      "Optimal objective  5.500000000e+03\n"
     ]
    }
   ],
   "source": [
    "# Create optimization model\n",
    "m = Model('netflow')\n",
    "\n",
    "# Create variables\n",
    "flow = m.addVars(commodities, arcs, obj=cost, name=\"flow\")\n",
    "\n",
    "# Arc capacity constraints\n",
    "m.addConstrs(\n",
    "    (flow.sum('*',i,j) <= capacity[i,j] for i,j in arcs), \"cap\")\n",
    "\n",
    "# Equivalent version using Python looping\n",
    "# for i,j in arcs:\n",
    "#   m.addConstr(sum(flow[h,i,j] for h in commodities) <= capacity[i,j],\n",
    "#               \"cap[%s,%s]\" % (i, j))\n",
    "\n",
    "\n",
    "# Flow conservation constraints\n",
    "m.addConstrs(\n",
    "    (flow.sum(h,'*',j) + inflow[h,j] == flow.sum(h,j,'*')\n",
    "    for h in commodities for j in nodes), \"node\")\n",
    "# Alternate version:\n",
    "# m.addConstrs(\n",
    "#   (quicksum(flow[h,i,j] for i,j in arcs.select('*',j)) + inflow[h,j] ==\n",
    "#     quicksum(flow[h,j,k] for j,k in arcs.select(j,'*'))\n",
    "#     for h in commodities for j in nodes), \"node\")\n",
    "\n",
    "# Compute optimal solution\n",
    "m.optimize()"
   ]
  },
  {
   "cell_type": "markdown",
   "metadata": {},
   "source": [
    "This example involves reading data from an .xlsx file with the `pandas` package. The same sort of problem can be demonstrated using `pandas` to read from `.csv` or SQLite files (and likely from nearly every file format `pandas` supports - see Jeff Reback's comment re: infinity support [here](https://github.com/pandas-dev/pandas/issues/10065)).\n",
    "\n",
    "It's not just `pandas` that likes to introduce `inf`. `xlrd` can do it with .xls files, for [example](http://www.gurobi.com/documentation/7.5/examples/diet4_py.html).\n",
    "\n",
    "Note that you can't determine if your engine is at risk of this exception failure simply by scanning your code for explicit references to `float(\"inf\")`. Since `inf` is a fundamental part of Python, any of the packages you are importing might themselves be introducing `inf` just as `pandas` did in this example. I am not aware of a turn-key work around for existing code to avoid this problem. \n",
    "\n",
    "Note that there isn't any backwards-compatibility breakage with using `inf` to represent unboundedness when adding variables. `gurobipy` will still quietly replace `inf` with `GRB.INFINITY` when calling `addVar`. It appears to be only the constraint building code that has changed."
   ]
  }
 ],
 "metadata": {
  "kernelspec": {
   "display_name": "Python 2",
   "language": "python",
   "name": "python2"
  },
  "language_info": {
   "codemirror_mode": {
    "name": "ipython",
    "version": 2
   },
   "file_extension": ".py",
   "mimetype": "text/x-python",
   "name": "python",
   "nbconvert_exporter": "python",
   "pygments_lexer": "ipython2",
   "version": "2.7.11"
  }
 },
 "nbformat": 4,
 "nbformat_minor": 0
}
