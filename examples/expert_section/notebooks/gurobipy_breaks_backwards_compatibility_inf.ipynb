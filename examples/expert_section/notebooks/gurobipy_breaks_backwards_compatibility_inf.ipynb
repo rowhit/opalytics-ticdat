{
 "cells": [
  {
   "cell_type": "markdown",
   "metadata": {},
   "source": [
    "# gurobipy 8.0 breaks back compatibility with float(\"inf\")\n",
    "\n",
    "The `gurobipy` package has broken long standing `inf`  functionality with their 8.0 release. Historically (dating back at least 5 years) `inf` is replaced with `GRB.INFINITY` during model building.  The 8.0 release instead raises an exception upon encountering `inf`.\n",
    "\n",
    "To demonstrate this functionality, we will use a diet.xls file that has infinity as part of the input data. Specifically, this file specifies an unbounded upper limit for protein consumption. It is consistent with the standard Gurobi example data set. \n",
    "\n",
    "You can download this diet.xls file from [here](https://drive.google.com/drive/folders/18w1hwJDrh4RJWwJi2tZb3qVUisUT5Q2k?usp=sharing). "
   ]
  },
  {
   "cell_type": "code",
   "execution_count": 1,
   "metadata": {
    "collapsed": true
   },
   "outputs": [],
   "source": [
    "import os\n",
    "assert os.path.isdir(\"data\"), \"you need a data directory to hold the data.xls file\"\n",
    "assert os.path.isfile(os.path.join(\"data\", \"diet.xls\")), \"need the data file\""
   ]
  },
  {
   "cell_type": "markdown",
   "metadata": {},
   "source": [
    "We will be using the diet4.py file you can get from [here](http://www.gurobi.com/documentation/7.5/examples/diet4_py.html) and also the dietmodel.py file you can get from [here](http://www.gurobi.com/documentation/7.5/examples/dietmodel_py.html)."
   ]
  },
  {
   "cell_type": "code",
   "execution_count": 2,
   "metadata": {
    "collapsed": true
   },
   "outputs": [],
   "source": [
    "assert os.path.isdir(\"gurobi_code\"), \"you need a gurobi_code directory to hold the gurobi example code\"\n",
    "assert os.path.isfile(os.path.join(\"gurobi_code\", \"diet4.py\")), \"need the diet4.py example file\"\n",
    "assert os.path.isfile(os.path.join(\"gurobi_code\", \"dietmodel.py\")), \"need the diet4.py example file\""
   ]
  },
  {
   "cell_type": "markdown",
   "metadata": {},
   "source": [
    "For Gurobi 7.5 (and all previous `gurobipy` versions I am aware of), this model behaves in the expected fashion. First it finds a solution of 11.8289 and then the altered model is determined to be infeasible.\n",
    "\n",
    "If you run this with Gurobi 8.0 it throws an exception. Feel free to rerun the notebook on your own installation."
   ]
  },
  {
   "cell_type": "code",
   "execution_count": 6,
   "metadata": {
    "collapsed": true
   },
   "outputs": [],
   "source": [
    "import gurobipy as gu"
   ]
  },
  {
   "cell_type": "code",
   "execution_count": 7,
   "metadata": {
    "collapsed": false
   },
   "outputs": [
    {
     "data": {
      "text/plain": [
       "(7, 5, 2)"
      ]
     },
     "execution_count": 7,
     "metadata": {},
     "output_type": "execute_result"
    }
   ],
   "source": [
    "gu.GRB.VERSION_MAJOR, gu.GRB.VERSION_MINOR, gu.GRB.VERSION_TECHNICAL"
   ]
  },
  {
   "cell_type": "code",
   "execution_count": 4,
   "metadata": {
    "collapsed": false
   },
   "outputs": [
    {
     "name": "stdout",
     "output_type": "stream",
     "text": [
      "/Users/XXXXX/2979/gurobi_code\n"
     ]
    }
   ],
   "source": [
    "cd gurobi_code"
   ]
  },
  {
   "cell_type": "code",
   "execution_count": 5,
   "metadata": {
    "collapsed": false
   },
   "outputs": [
    {
     "name": "stdout",
     "output_type": "stream",
     "text": [
      "Optimize a model with 4 rows, 12 columns and 39 nonzeros\n",
      "Coefficient statistics:\n",
      "  Matrix range     [1e+00, 2e+03]\n",
      "  Objective range  [9e-01, 3e+00]\n",
      "  Bounds range     [6e+01, 2e+03]\n",
      "  RHS range        [6e+01, 2e+03]\n",
      "Presolve removed 0 rows and 2 columns\n",
      "Presolve time: 0.00s\n",
      "Presolved: 4 rows, 10 columns, 37 nonzeros\n",
      "\n",
      "Iteration    Objective       Primal Inf.    Dual Inf.      Time\n",
      "       0    0.0000000e+00   1.472500e+02   0.000000e+00      0s\n",
      "       4    1.1828861e+01   0.000000e+00   0.000000e+00      0s\n",
      "\n",
      "Solved in 4 iterations and 0.01 seconds\n",
      "Optimal objective  1.182886111e+01\n",
      "\n",
      "Cost: 11.8289\n",
      "\n",
      "Buy:\n",
      "hamburger 0.604514\n",
      "ice cream 2.59132\n",
      "milk 6.97014\n",
      "\n",
      "Adding constraint: at most 6 servings of dairy\n",
      "Optimize a model with 5 rows, 12 columns and 41 nonzeros\n",
      "Coefficient statistics:\n",
      "  Matrix range     [1e+00, 2e+03]\n",
      "  Objective range  [9e-01, 3e+00]\n",
      "  Bounds range     [6e+01, 2e+03]\n",
      "  RHS range        [6e+00, 2e+03]\n",
      "Iteration    Objective       Primal Inf.    Dual Inf.      Time\n",
      "       0    1.1828861e+01   5.698333e+01   0.000000e+00      0s\n",
      "\n",
      "Solved in 0 iterations and 0.00 seconds\n",
      "Infeasible model\n",
      "No solution\n"
     ]
    }
   ],
   "source": [
    " run diet4.py"
   ]
  },
  {
   "cell_type": "markdown",
   "metadata": {},
   "source": [
    "This example involves reading data from an .xls file with the `xlrd` package. The same sort of problem can be demonstrated using the widely popular `pandas` package reading from `.xlsx`, `.csv` or SQLite files (or AFAIK, from nearly every file format `pandas` supports. See Jeff Reback's comment re: infinity support [here](https://github.com/pandas-dev/pandas/issues/10065)).\n",
    "\n",
    "Note that you can't determine if your engine is at risk of this exception failure simply by scanning your code for explicit references to `float(\"inf\")`. Since `inf` is a fundamental part of Python, any of the packages you are importing might themselves be introducing `inf` just as `xlrd` did in this example. I am not aware of a turn-key solution. "
   ]
  }
 ],
 "metadata": {
  "kernelspec": {
   "display_name": "Python 2",
   "language": "python",
   "name": "python2"
  },
  "language_info": {
   "codemirror_mode": {
    "name": "ipython",
    "version": 2
   },
   "file_extension": ".py",
   "mimetype": "text/x-python",
   "name": "python",
   "nbconvert_exporter": "python",
   "pygments_lexer": "ipython2",
   "version": "2.7.11"
  }
 },
 "nbformat": 4,
 "nbformat_minor": 0
}
